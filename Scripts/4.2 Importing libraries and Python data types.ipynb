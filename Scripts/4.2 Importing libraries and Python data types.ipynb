{
 "cells": [
  {
   "cell_type": "code",
   "execution_count": 1,
   "id": "dfdb194c-8031-4fe5-9800-a688e37d55a7",
   "metadata": {},
   "outputs": [],
   "source": [
    "# Import libraries\n",
    "import pandas as pd\n",
    "import numpy as np\n",
    "import os\n"
   ]
  },
  {
   "cell_type": "code",
   "execution_count": 1,
   "id": "f072e070-3c67-48d8-8ce2-3a1fc7b24147",
   "metadata": {},
   "outputs": [
    {
     "name": "stdout",
     "output_type": "stream",
     "text": [
      "100\n"
     ]
    }
   ],
   "source": [
    "# Python Data Types Assignment Question 1\n",
    "a= 10\n",
    "b= 90\n",
    "result = a+b\n",
    "print (result)\n"
   ]
  },
  {
   "cell_type": "code",
   "execution_count": 3,
   "id": "ea54df81-fc3b-4efa-9881-46e80bd773c0",
   "metadata": {},
   "outputs": [
    {
     "name": "stdout",
     "output_type": "stream",
     "text": [
      "100\n"
     ]
    }
   ],
   "source": [
    "# Python Data Types Assignment Question 1\n",
    "a= 10\n",
    "b= 110\n",
    "result = b-a\n",
    "print (result)\n"
   ]
  },
  {
   "cell_type": "code",
   "execution_count": 5,
   "id": "a5375c49-12e2-47c6-97bb-9988adfab9e8",
   "metadata": {},
   "outputs": [
    {
     "name": "stdout",
     "output_type": "stream",
     "text": [
      "100\n"
     ]
    }
   ],
   "source": [
    "# Python Data Types Assignment Question 1\n",
    "a= 50\n",
    "b= 2\n",
    "result = a * b\n",
    "print (result)\n"
   ]
  },
  {
   "cell_type": "code",
   "execution_count": 7,
   "id": "69ec4f11-5592-45fc-9ca1-8228eb3fe898",
   "metadata": {},
   "outputs": [
    {
     "name": "stdout",
     "output_type": "stream",
     "text": [
      "5.0\n"
     ]
    }
   ],
   "source": [
    "# Python Data Types Assignment Question 2\n",
    "a= 12.5\n",
    "b= 2.5\n",
    "result = a/b\n",
    "print (result)"
   ]
  },
  {
   "cell_type": "code",
   "execution_count": 9,
   "id": "19b9890a-532f-4669-9052-f91d46947323",
   "metadata": {},
   "outputs": [
    {
     "name": "stdout",
     "output_type": "stream",
     "text": [
      "Python\n"
     ]
    }
   ],
   "source": [
    "# Python Data Types Assignment Question 3\n",
    "a= \"Py\"\n",
    "b= \"th\"\n",
    "c= \"on\"\n",
    "result = a+b+c\n",
    "print (result)"
   ]
  },
  {
   "cell_type": "code",
   "execution_count": 17,
   "id": "518911a0-cc27-4df3-ad77-574c799d242c",
   "metadata": {},
   "outputs": [
    {
     "name": "stdout",
     "output_type": "stream",
     "text": [
      "Python is useful. Data analysts love it.\n"
     ]
    }
   ],
   "source": [
    "# Python Data Types Assignment Question 4\n",
    "a1= \"Python\"\n",
    "b1= \"is\"\n",
    "c1= \"useful.\"\n",
    "\n",
    "a2= \"Data\"\n",
    "b2= \"analysts\"\n",
    "c2= \"love it.\"\n",
    "\n",
    "sentences = a1 + \" \" + b1 + \" \" + c1 + \" \" + a2 + \" \" + b2 + \" \" + c2\n",
    "print (sentences)\n"
   ]
  },
  {
   "cell_type": "code",
   "execution_count": null,
   "id": "683275a3-6e9c-455b-8875-789d43510b9e",
   "metadata": {},
   "outputs": [],
   "source": []
  }
 ],
 "metadata": {
  "kernelspec": {
   "display_name": "Python [conda env:base] *",
   "language": "python",
   "name": "conda-base-py"
  },
  "language_info": {
   "codemirror_mode": {
    "name": "ipython",
    "version": 3
   },
   "file_extension": ".py",
   "mimetype": "text/x-python",
   "name": "python",
   "nbconvert_exporter": "python",
   "pygments_lexer": "ipython3",
   "version": "3.12.7"
  }
 },
 "nbformat": 4,
 "nbformat_minor": 5
}
