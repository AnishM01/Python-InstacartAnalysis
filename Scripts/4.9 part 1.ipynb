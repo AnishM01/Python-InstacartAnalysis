{
 "cells": [
  {
   "cell_type": "code",
   "execution_count": 3,
   "id": "84496841-984f-4da1-b34c-2e932dc453f0",
   "metadata": {},
   "outputs": [],
   "source": [
    "# Import libraries\n",
    "import pandas as pd\n",
    "import numpy as np\n",
    "import os\n",
    "import matplotlib.pyplot as plt\n",
    "import seaborn as sns\n",
    "import scipy"
   ]
  },
  {
   "cell_type": "code",
   "execution_count": 4,
   "id": "167dc6d0-18ca-45f9-82f2-d8d77dbde15d",
   "metadata": {},
   "outputs": [],
   "source": [
    "path = r\"C:\\Users\\anish\\02-2025 Instacart Basket Analysis\""
   ]
  },
  {
   "cell_type": "code",
   "execution_count": 5,
   "id": "2de07750-a82a-4117-a04f-f839be8c4c48",
   "metadata": {},
   "outputs": [
    {
     "data": {
      "text/plain": [
       "'C:\\\\Users\\\\anish\\\\02-2025 Instacart Basket Analysis'"
      ]
     },
     "execution_count": 5,
     "metadata": {},
     "output_type": "execute_result"
    }
   ],
   "source": [
    "path"
   ]
  },
  {
   "cell_type": "code",
   "execution_count": 6,
   "id": "52237ab7-c501-4e54-9949-9ad2c74d8b11",
   "metadata": {},
   "outputs": [],
   "source": [
    "df_customers = pd.read_csv(os.path.join(path, 'Data', 'Original Data', 'customers.csv'))"
   ]
  },
  {
   "cell_type": "markdown",
   "id": "ccafd1dd-1647-421b-8924-bc45b7c27748",
   "metadata": {},
   "source": [
    "## Question 4: Wrangle Data"
   ]
  },
  {
   "cell_type": "code",
   "execution_count": 8,
   "id": "a4b338fc-1c79-49d2-9347-e7de9f99b67f",
   "metadata": {},
   "outputs": [
    {
     "data": {
      "text/html": [
       "<div>\n",
       "<style scoped>\n",
       "    .dataframe tbody tr th:only-of-type {\n",
       "        vertical-align: middle;\n",
       "    }\n",
       "\n",
       "    .dataframe tbody tr th {\n",
       "        vertical-align: top;\n",
       "    }\n",
       "\n",
       "    .dataframe thead th {\n",
       "        text-align: right;\n",
       "    }\n",
       "</style>\n",
       "<table border=\"1\" class=\"dataframe\">\n",
       "  <thead>\n",
       "    <tr style=\"text-align: right;\">\n",
       "      <th></th>\n",
       "      <th>user_id</th>\n",
       "      <th>First Name</th>\n",
       "      <th>Surnam</th>\n",
       "      <th>Gender</th>\n",
       "      <th>STATE</th>\n",
       "      <th>Age</th>\n",
       "      <th>date_joined</th>\n",
       "      <th>n_dependants</th>\n",
       "      <th>fam_status</th>\n",
       "      <th>income</th>\n",
       "    </tr>\n",
       "  </thead>\n",
       "  <tbody>\n",
       "    <tr>\n",
       "      <th>0</th>\n",
       "      <td>26711</td>\n",
       "      <td>Deborah</td>\n",
       "      <td>Esquivel</td>\n",
       "      <td>Female</td>\n",
       "      <td>Missouri</td>\n",
       "      <td>48</td>\n",
       "      <td>1/1/2017</td>\n",
       "      <td>3</td>\n",
       "      <td>married</td>\n",
       "      <td>165665</td>\n",
       "    </tr>\n",
       "    <tr>\n",
       "      <th>1</th>\n",
       "      <td>33890</td>\n",
       "      <td>Patricia</td>\n",
       "      <td>Hart</td>\n",
       "      <td>Female</td>\n",
       "      <td>New Mexico</td>\n",
       "      <td>36</td>\n",
       "      <td>1/1/2017</td>\n",
       "      <td>0</td>\n",
       "      <td>single</td>\n",
       "      <td>59285</td>\n",
       "    </tr>\n",
       "    <tr>\n",
       "      <th>2</th>\n",
       "      <td>65803</td>\n",
       "      <td>Kenneth</td>\n",
       "      <td>Farley</td>\n",
       "      <td>Male</td>\n",
       "      <td>Idaho</td>\n",
       "      <td>35</td>\n",
       "      <td>1/1/2017</td>\n",
       "      <td>2</td>\n",
       "      <td>married</td>\n",
       "      <td>99568</td>\n",
       "    </tr>\n",
       "    <tr>\n",
       "      <th>3</th>\n",
       "      <td>125935</td>\n",
       "      <td>Michelle</td>\n",
       "      <td>Hicks</td>\n",
       "      <td>Female</td>\n",
       "      <td>Iowa</td>\n",
       "      <td>40</td>\n",
       "      <td>1/1/2017</td>\n",
       "      <td>0</td>\n",
       "      <td>single</td>\n",
       "      <td>42049</td>\n",
       "    </tr>\n",
       "    <tr>\n",
       "      <th>4</th>\n",
       "      <td>130797</td>\n",
       "      <td>Ann</td>\n",
       "      <td>Gilmore</td>\n",
       "      <td>Female</td>\n",
       "      <td>Maryland</td>\n",
       "      <td>26</td>\n",
       "      <td>1/1/2017</td>\n",
       "      <td>1</td>\n",
       "      <td>married</td>\n",
       "      <td>40374</td>\n",
       "    </tr>\n",
       "  </tbody>\n",
       "</table>\n",
       "</div>"
      ],
      "text/plain": [
       "   user_id First Name    Surnam  Gender       STATE  Age date_joined  \\\n",
       "0    26711    Deborah  Esquivel  Female    Missouri   48    1/1/2017   \n",
       "1    33890   Patricia      Hart  Female  New Mexico   36    1/1/2017   \n",
       "2    65803    Kenneth    Farley    Male       Idaho   35    1/1/2017   \n",
       "3   125935   Michelle     Hicks  Female        Iowa   40    1/1/2017   \n",
       "4   130797        Ann   Gilmore  Female    Maryland   26    1/1/2017   \n",
       "\n",
       "   n_dependants fam_status  income  \n",
       "0             3    married  165665  \n",
       "1             0     single   59285  \n",
       "2             2    married   99568  \n",
       "3             0     single   42049  \n",
       "4             1    married   40374  "
      ]
     },
     "execution_count": 8,
     "metadata": {},
     "output_type": "execute_result"
    }
   ],
   "source": [
    "df_customers.head()"
   ]
  },
  {
   "cell_type": "code",
   "execution_count": 9,
   "id": "cd385393-12bb-494b-b8cf-7e52c22b5e3d",
   "metadata": {},
   "outputs": [
    {
     "data": {
      "text/plain": [
       "(206209, 10)"
      ]
     },
     "execution_count": 9,
     "metadata": {},
     "output_type": "execute_result"
    }
   ],
   "source": [
    "df_customers.shape"
   ]
  },
  {
   "cell_type": "code",
   "execution_count": 10,
   "id": "85ad6120-ff20-48e2-887d-aa40f0766210",
   "metadata": {},
   "outputs": [],
   "source": [
    "df_customers = df_customers.rename(columns={ \n",
    "    'First Name' : 'first_name',\n",
    "    'Surnam' : 'last_name', \n",
    "    'Gender' : 'gender',\n",
    "    'STATE' : 'state', \n",
    "    'Age' : 'age',\n",
    "    'date_joined' : 'date_joined', \n",
    "    'n_dependants' : 'number_of_dependants', \n",
    "    'fam_status' : 'marital_status'})"
   ]
  },
  {
   "cell_type": "markdown",
   "id": "70de2b74-a3b3-47b5-85e3-291984fffe71",
   "metadata": {},
   "source": [
    "Renamed the columns and kept the lowercase format."
   ]
  },
  {
   "cell_type": "code",
   "execution_count": 12,
   "id": "e55256e9-49c6-4aeb-a3f0-2fda18e2bb39",
   "metadata": {},
   "outputs": [
    {
     "data": {
      "text/html": [
       "<div>\n",
       "<style scoped>\n",
       "    .dataframe tbody tr th:only-of-type {\n",
       "        vertical-align: middle;\n",
       "    }\n",
       "\n",
       "    .dataframe tbody tr th {\n",
       "        vertical-align: top;\n",
       "    }\n",
       "\n",
       "    .dataframe thead th {\n",
       "        text-align: right;\n",
       "    }\n",
       "</style>\n",
       "<table border=\"1\" class=\"dataframe\">\n",
       "  <thead>\n",
       "    <tr style=\"text-align: right;\">\n",
       "      <th></th>\n",
       "      <th>user_id</th>\n",
       "      <th>first_name</th>\n",
       "      <th>last_name</th>\n",
       "      <th>gender</th>\n",
       "      <th>state</th>\n",
       "      <th>age</th>\n",
       "      <th>date_joined</th>\n",
       "      <th>number_of_dependants</th>\n",
       "      <th>marital_status</th>\n",
       "      <th>income</th>\n",
       "    </tr>\n",
       "  </thead>\n",
       "  <tbody>\n",
       "    <tr>\n",
       "      <th>0</th>\n",
       "      <td>26711</td>\n",
       "      <td>Deborah</td>\n",
       "      <td>Esquivel</td>\n",
       "      <td>Female</td>\n",
       "      <td>Missouri</td>\n",
       "      <td>48</td>\n",
       "      <td>1/1/2017</td>\n",
       "      <td>3</td>\n",
       "      <td>married</td>\n",
       "      <td>165665</td>\n",
       "    </tr>\n",
       "    <tr>\n",
       "      <th>1</th>\n",
       "      <td>33890</td>\n",
       "      <td>Patricia</td>\n",
       "      <td>Hart</td>\n",
       "      <td>Female</td>\n",
       "      <td>New Mexico</td>\n",
       "      <td>36</td>\n",
       "      <td>1/1/2017</td>\n",
       "      <td>0</td>\n",
       "      <td>single</td>\n",
       "      <td>59285</td>\n",
       "    </tr>\n",
       "    <tr>\n",
       "      <th>2</th>\n",
       "      <td>65803</td>\n",
       "      <td>Kenneth</td>\n",
       "      <td>Farley</td>\n",
       "      <td>Male</td>\n",
       "      <td>Idaho</td>\n",
       "      <td>35</td>\n",
       "      <td>1/1/2017</td>\n",
       "      <td>2</td>\n",
       "      <td>married</td>\n",
       "      <td>99568</td>\n",
       "    </tr>\n",
       "    <tr>\n",
       "      <th>3</th>\n",
       "      <td>125935</td>\n",
       "      <td>Michelle</td>\n",
       "      <td>Hicks</td>\n",
       "      <td>Female</td>\n",
       "      <td>Iowa</td>\n",
       "      <td>40</td>\n",
       "      <td>1/1/2017</td>\n",
       "      <td>0</td>\n",
       "      <td>single</td>\n",
       "      <td>42049</td>\n",
       "    </tr>\n",
       "    <tr>\n",
       "      <th>4</th>\n",
       "      <td>130797</td>\n",
       "      <td>Ann</td>\n",
       "      <td>Gilmore</td>\n",
       "      <td>Female</td>\n",
       "      <td>Maryland</td>\n",
       "      <td>26</td>\n",
       "      <td>1/1/2017</td>\n",
       "      <td>1</td>\n",
       "      <td>married</td>\n",
       "      <td>40374</td>\n",
       "    </tr>\n",
       "  </tbody>\n",
       "</table>\n",
       "</div>"
      ],
      "text/plain": [
       "   user_id first_name last_name  gender       state  age date_joined  \\\n",
       "0    26711    Deborah  Esquivel  Female    Missouri   48    1/1/2017   \n",
       "1    33890   Patricia      Hart  Female  New Mexico   36    1/1/2017   \n",
       "2    65803    Kenneth    Farley    Male       Idaho   35    1/1/2017   \n",
       "3   125935   Michelle     Hicks  Female        Iowa   40    1/1/2017   \n",
       "4   130797        Ann   Gilmore  Female    Maryland   26    1/1/2017   \n",
       "\n",
       "   number_of_dependants marital_status  income  \n",
       "0                     3        married  165665  \n",
       "1                     0         single   59285  \n",
       "2                     2        married   99568  \n",
       "3                     0         single   42049  \n",
       "4                     1        married   40374  "
      ]
     },
     "execution_count": 12,
     "metadata": {},
     "output_type": "execute_result"
    }
   ],
   "source": [
    "df_customers.head()"
   ]
  },
  {
   "cell_type": "markdown",
   "id": "6201f6f4-0fa2-48b9-b6cf-87bd6fd5f694",
   "metadata": {},
   "source": [
    "## Question 5: Fundamental data quality and consistency checks"
   ]
  },
  {
   "cell_type": "code",
   "execution_count": 14,
   "id": "77a1b941-9f5b-4eb1-8b89-e56147127dc6",
   "metadata": {},
   "outputs": [
    {
     "data": {
      "text/plain": [
       "user_id                     0\n",
       "first_name              11259\n",
       "last_name                   0\n",
       "gender                      0\n",
       "state                       0\n",
       "age                         0\n",
       "date_joined                 0\n",
       "number_of_dependants        0\n",
       "marital_status              0\n",
       "income                      0\n",
       "dtype: int64"
      ]
     },
     "execution_count": 14,
     "metadata": {},
     "output_type": "execute_result"
    }
   ],
   "source": [
    "df_customers.isnull().sum()"
   ]
  },
  {
   "cell_type": "markdown",
   "id": "124832b9-44a4-4daf-aa7d-5f92e75f26cf",
   "metadata": {},
   "source": [
    "There are 11259 null or missing values, but we don't need any further action since it's not vital for the analysis"
   ]
  },
  {
   "cell_type": "code",
   "execution_count": 16,
   "id": "ea603c6c-3254-4d8b-8160-ba7edc08396c",
   "metadata": {},
   "outputs": [],
   "source": [
    "df_dups = df_customers[df_customers.duplicated()]"
   ]
  },
  {
   "cell_type": "code",
   "execution_count": 17,
   "id": "a599fd9f-1cfe-4890-839e-f19a4dca2661",
   "metadata": {},
   "outputs": [
    {
     "data": {
      "text/html": [
       "<div>\n",
       "<style scoped>\n",
       "    .dataframe tbody tr th:only-of-type {\n",
       "        vertical-align: middle;\n",
       "    }\n",
       "\n",
       "    .dataframe tbody tr th {\n",
       "        vertical-align: top;\n",
       "    }\n",
       "\n",
       "    .dataframe thead th {\n",
       "        text-align: right;\n",
       "    }\n",
       "</style>\n",
       "<table border=\"1\" class=\"dataframe\">\n",
       "  <thead>\n",
       "    <tr style=\"text-align: right;\">\n",
       "      <th></th>\n",
       "      <th>user_id</th>\n",
       "      <th>first_name</th>\n",
       "      <th>last_name</th>\n",
       "      <th>gender</th>\n",
       "      <th>state</th>\n",
       "      <th>age</th>\n",
       "      <th>date_joined</th>\n",
       "      <th>number_of_dependants</th>\n",
       "      <th>marital_status</th>\n",
       "      <th>income</th>\n",
       "    </tr>\n",
       "  </thead>\n",
       "  <tbody>\n",
       "  </tbody>\n",
       "</table>\n",
       "</div>"
      ],
      "text/plain": [
       "Empty DataFrame\n",
       "Columns: [user_id, first_name, last_name, gender, state, age, date_joined, number_of_dependants, marital_status, income]\n",
       "Index: []"
      ]
     },
     "execution_count": 17,
     "metadata": {},
     "output_type": "execute_result"
    }
   ],
   "source": [
    "df_dups"
   ]
  },
  {
   "cell_type": "markdown",
   "id": "13f5cfbb-41af-4e6b-a92e-52001521ddf8",
   "metadata": {},
   "source": [
    "There are no duplicate values"
   ]
  },
  {
   "cell_type": "code",
   "execution_count": 19,
   "id": "719ad5de-4454-4287-a6ad-c994ce7f3e44",
   "metadata": {},
   "outputs": [
    {
     "data": {
      "text/plain": [
       "user_id                  int64\n",
       "first_name              object\n",
       "last_name               object\n",
       "gender                  object\n",
       "state                   object\n",
       "age                      int64\n",
       "date_joined             object\n",
       "number_of_dependants     int64\n",
       "marital_status          object\n",
       "income                   int64\n",
       "dtype: object"
      ]
     },
     "execution_count": 19,
     "metadata": {},
     "output_type": "execute_result"
    }
   ],
   "source": [
    "df_customers.dtypes"
   ]
  },
  {
   "cell_type": "code",
   "execution_count": 20,
   "id": "57f94d19-73a4-4b83-844e-ac33ee2e78c6",
   "metadata": {},
   "outputs": [
    {
     "name": "stdout",
     "output_type": "stream",
     "text": [
      "first_name\n"
     ]
    }
   ],
   "source": [
    "for col in df_customers.columns.tolist():\n",
    "  weird = (df_customers[[col]].map(type) != df_customers[[col]].iloc[0].apply(type)).any(axis = 1)\n",
    "  if len (df_customers[weird]) > 0:\n",
    "    print (col)"
   ]
  },
  {
   "cell_type": "markdown",
   "id": "b5cc30aa-83c3-46e6-9afa-79d9a25fd1b6",
   "metadata": {},
   "source": [
    "We can see that first_name is a mixed data type so I will take further action to fix it."
   ]
  },
  {
   "cell_type": "code",
   "execution_count": 22,
   "id": "751bb727-96be-47aa-92ae-0fc94ed92414",
   "metadata": {},
   "outputs": [],
   "source": [
    "df_customers['first_name'] = df_customers['first_name'].astype('str')"
   ]
  },
  {
   "cell_type": "code",
   "execution_count": 23,
   "id": "1ffab8ae-5d54-4c14-ba5a-6cbfb5575153",
   "metadata": {},
   "outputs": [
    {
     "data": {
      "text/plain": [
       "user_id                  int64\n",
       "first_name              object\n",
       "last_name               object\n",
       "gender                  object\n",
       "state                   object\n",
       "age                      int64\n",
       "date_joined             object\n",
       "number_of_dependants     int64\n",
       "marital_status          object\n",
       "income                   int64\n",
       "dtype: object"
      ]
     },
     "execution_count": 23,
     "metadata": {},
     "output_type": "execute_result"
    }
   ],
   "source": [
    "df_customers.dtypes"
   ]
  },
  {
   "cell_type": "code",
   "execution_count": 24,
   "id": "d4facc60-e520-4368-8023-d9c580769acf",
   "metadata": {},
   "outputs": [],
   "source": [
    "for col in df_customers.columns.tolist():\n",
    "  weird = (df_customers[[col]].map(type) != df_customers[[col]].iloc[0].apply(type)).any(axis = 1)\n",
    "  if len (df_customers[weird]) > 0:\n",
    "    print (col)"
   ]
  },
  {
   "cell_type": "markdown",
   "id": "13beb210-c578-433d-981c-e93b828c0bc8",
   "metadata": {},
   "source": [
    "first_name has been fixed"
   ]
  },
  {
   "cell_type": "markdown",
   "id": "a4d38b18-c16c-469c-8898-de3454dd9869",
   "metadata": {},
   "source": [
    "## Question 6: Combine your customer data with the rest of your prepared Instacart data."
   ]
  },
  {
   "cell_type": "code",
   "execution_count": 27,
   "id": "13550f98-4d6f-4ecf-b9cc-ce7e2beaba33",
   "metadata": {},
   "outputs": [],
   "source": [
    "df_ords_prods_merge =pd.read_pickle(os.path.join(path, 'Data', 'Prepared Data', 'orders_products_merged_aggregated.pkl'))"
   ]
  },
  {
   "cell_type": "code",
   "execution_count": 28,
   "id": "2b08ea6d-3fee-444c-b4d5-3f2e6aab75fb",
   "metadata": {
    "scrolled": true
   },
   "outputs": [
    {
     "data": {
      "text/plain": [
       "order_id                         int64\n",
       "user_id                          int64\n",
       "order_number                     int64\n",
       "orders_day_of_week               int64\n",
       "orders_hour                      int64\n",
       "days_since_prior_order         float64\n",
       "product_id                       int64\n",
       "add_to_cart_order                int64\n",
       "reordered                        int64\n",
       "_merge                        category\n",
       "product_name                    object\n",
       "aisle_id                         int64\n",
       "department_id                    int64\n",
       "prices                         float64\n",
       "match                         category\n",
       "price_range_loc                 object\n",
       "busiest_day                     object\n",
       "busiest_days                    object\n",
       "busiest_period_of_day           object\n",
       "max_order                        int64\n",
       "loyalty_flag                    object\n",
       "avg_product_price              float64\n",
       "spending_flag                   object\n",
       "median_days_between_orders     float64\n",
       "order_frequency_flag            object\n",
       "dtype: object"
      ]
     },
     "execution_count": 28,
     "metadata": {},
     "output_type": "execute_result"
    }
   ],
   "source": [
    "df_ords_prods_merge.dtypes"
   ]
  },
  {
   "cell_type": "code",
   "execution_count": 29,
   "id": "182facad-830f-4d31-8ef7-1eee8a47c966",
   "metadata": {},
   "outputs": [],
   "source": [
    "df_ords_prods_merge = df_ords_prods_merge.drop(columns=['_merge'])"
   ]
  },
  {
   "cell_type": "markdown",
   "id": "3789a47a-4daf-420c-a6a1-bf6263bb71e6",
   "metadata": {},
   "source": [
    "merge column not needed anymore"
   ]
  },
  {
   "cell_type": "code",
   "execution_count": 31,
   "id": "4ed9bfff-22a7-4a2f-9a8e-f52a2e03629b",
   "metadata": {},
   "outputs": [],
   "source": [
    "df_ords_prods_customers_merge = df_ords_prods_merge.merge(df_customers, on = 'user_id', indicator = True)"
   ]
  },
  {
   "cell_type": "code",
   "execution_count": 54,
   "id": "3643496c-bbe9-4b9e-9c6d-f3f4413c82e5",
   "metadata": {},
   "outputs": [],
   "source": [
    "df_ords_prods_customers_merge.to_pickle(os.path.join(path, 'Data','Prepared Data', 'orders_products_customers_aggregated.pkl'))"
   ]
  },
  {
   "cell_type": "code",
   "execution_count": null,
   "id": "19ac2d55-a7b5-4cb1-8ced-7e5c0fb8c9df",
   "metadata": {},
   "outputs": [],
   "source": []
  }
 ],
 "metadata": {
  "kernelspec": {
   "display_name": "Python [conda env:base] *",
   "language": "python",
   "name": "conda-base-py"
  },
  "language_info": {
   "codemirror_mode": {
    "name": "ipython",
    "version": 3
   },
   "file_extension": ".py",
   "mimetype": "text/x-python",
   "name": "python",
   "nbconvert_exporter": "python",
   "pygments_lexer": "ipython3",
   "version": "3.12.7"
  }
 },
 "nbformat": 4,
 "nbformat_minor": 5
}
